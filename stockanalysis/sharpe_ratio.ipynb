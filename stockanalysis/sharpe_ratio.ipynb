{
 "cells": [
  {
   "source": [
    "import yfinance as yf\n",
    "import pandas as pd\n",
    "import numpy as np\n",
    "from datetime import datetime\n",
    "\n",
    "DAYS_IN_YEAR = 252\n",
    "start = datetime(2010, 9, 1)\n",
    "end = datetime(2020, 9, 1)\n",
    "\n",
    "pd.set_option('display.max_rows', None)\n",
    "pd.set_option('display.max_columns', None)\n",
    "pd.set_option('display.width', None)\n",
    "pd.set_option('display.max_colwidth', -1)\n",
    "\n",
    "def get_ticker_from_yahoo(ticker: str):\n",
    "    \"\"\" Get ticker from Yahoo Finance.\"\"\"\n",
    "    return yf.Ticker(ticker).history(start=start, end=end)\n",
    "\n",
    "def get_ticker_data(ticker: str):\n",
    "    \"\"\" Get the details stats for a stock ticker.\n",
    "    \n",
    "    Args:\n",
    "        ticker (str): the ticker symbol on Yahoo Finance.\n",
    "\n",
    "    Returns:\n",
    "        Dataframe: contains the daily stats of the ticker.\n",
    "    \"\"\"\n",
    "    data = get_ticker_from_yahoo(ticker)\n",
    "    data['Change'] = data['Close'].pct_change()\n",
    "    data['Gross Return'] = data['Change'] + 1\n",
    "    data['Log Return'] = np.log(data['Gross Return'])\n",
    "    return data\n",
    "\n",
    "\n",
    "def get_risk_free_return():\n",
    "    \"\"\" Get risk-free return.\n",
    "\n",
    "    The risk-free return is yielded by 13 Week Treasuray Bill.\n",
    "    Note that the data from Yahoo Finance represent is annualized return.\n",
    "    Each daily value contains annualized return %.\n",
    "\n",
    "    Returns:\n",
    "        Dataframe: contains the daily stats of risk-free return.\n",
    "    \"\"\"\n",
    "    irx = get_ticker_from_yahoo('^IRX')\n",
    "    irx['Annaul Log Return'] = np.log(1 + (irx['Close'] / 100)) # divide by 100 since it's %\n",
    "    irx['Log Return'] = irx['Annaul Log Return'] / DAYS_IN_YEAR\n",
    "    return irx\n",
    "\n",
    "\n",
    "def get_sharp_ratio(ticker: str):\n",
    "    \"\"\" Get sharp ratio for a stock ticker.\n",
    "    \n",
    "    Args:\n",
    "        ticker (str): the ticker symbol on Yahoo Finance.\n",
    "\n",
    "    Returns:\n",
    "        float: the sharp ratio of the ticker data.\n",
    "    \"\"\"\n",
    "    ticker_data = get_ticker_data(ticker)\n",
    "    irx_data = get_risk_free_return()\n",
    "    ticker_data['Excess Return'] = ticker_data['Log Return'] - irx_data['Log Return']\n",
    "\n",
    "    excess_return_mean = np.mean(ticker_data['Excess Return'])\n",
    "    excess_return_std = np.std(ticker_data['Excess Return'])\n",
    "    return excess_return_mean / excess_return_std\n",
    "\n"
   ],
   "cell_type": "code",
   "metadata": {
    "tags": []
   },
   "execution_count": null,
   "outputs": []
  },
  {
   "cell_type": "code",
   "execution_count": 2,
   "metadata": {
    "tags": []
   },
   "outputs": [
    {
     "output_type": "stream",
     "name": "stdout",
     "text": "^GSPC  Sharp Ratio: None\nMSFT   Sharp Ratio: None\nAAPL   Sharp Ratio: None\nAMZN   Sharp Ratio: None\nBETZ   Sharp Ratio: None\nSLV    Sharp Ratio: None\nIBUY   Sharp Ratio: None\nARKK   Sharp Ratio: None\nARKG   Sharp Ratio: None\nARKW   Sharp Ratio: None\nARKQ   Sharp Ratio: None\nARKF   Sharp Ratio: None\nCLOU   Sharp Ratio: None\nESPO   Sharp Ratio: None\nTAN    Sharp Ratio: None\nJETS   Sharp Ratio: None\n"
    }
   ],
   "source": [
    "\n",
    "tickers = ['^GSPC', 'MSFT', 'AAPL', 'AMZN', 'BETZ', 'SLV', 'IBUY', 'ARKK', 'ARKG', 'ARKW', 'ARKQ', 'ARKF', 'CLOU', 'ESPO', 'TAN', 'JETS']\n",
    "\n",
    "for ticker in tickers:\n",
    "    sharp = get_sharp_ratio(ticker)\n",
    "    print(f'{ticker:6} Sharp Ratio: {sharp}')\n",
    "\n"
   ]
  },
  {
   "cell_type": "code",
   "execution_count": null,
   "metadata": {
    "tags": []
   },
   "outputs": [],
   "source": [
    "data = pd.Series([1, 3, 8])\n",
    "dataframe = pd.DataFrame({'A': [1,2,3,4], 'B': [3,3,3,3]})\n",
    "dataframe2 = pd.DataFrame({'A': [1,2,3,4,5,6,7,8], 'B': [3,3,3,3,6,6,6,6]})\n",
    "print (dataframe - dataframe2)"
   ]
  },
  {
   "cell_type": "code",
   "execution_count": null,
   "metadata": {
    "tags": []
   },
   "outputs": [],
   "source": [
    "\n",
    "df = pd.DataFrame(np.ones((6, 4)), index=pd.date_range('20130108', periods=6), columns=list('ABCD'))\n",
    "df2 = pd.DataFrame(np.zeros((20, 4)), index=pd.date_range('20130101', periods=20), columns=list('ABCD'))\n",
    "\n",
    "df2\n",
    "print (df)\n",
    "print (df2)\n",
    "print (df['D'] - df2['D'])\n",
    "print (np.std(df['D'] - df2['D']))\n",
    "# print (np.mean(df - df2))"
   ]
  }
 ],
 "metadata": {
  "kernelspec": {
   "display_name": "stock-analysis-env",
   "language": "python",
   "name": "stock-analysis-env"
  },
  "language_info": {
   "codemirror_mode": {
    "name": "ipython",
    "version": 3
   },
   "file_extension": ".py",
   "mimetype": "text/x-python",
   "name": "python",
   "nbconvert_exporter": "python",
   "pygments_lexer": "ipython3",
   "version": "3.8.5-final"
  }
 },
 "nbformat": 4,
 "nbformat_minor": 2
}