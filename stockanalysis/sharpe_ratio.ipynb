{
 "cells": [
  {
   "source": [
    "import yfinance as yf\n",
    "import pandas as pd\n",
    "import numpy as np\n",
    "from datetime import datetime\n",
    "\n",
    "DAYS_IN_YEAR = 252\n",
    "pd.set_option('display.max_rows', None)\n",
    "pd.set_option('display.max_columns', None)\n",
    "pd.set_option('display.width', None)\n",
    "pd.set_option('display.max_colwidth', -1)\n",
    "\n",
    "\n",
    "def get_ticker_from_yahoo(ticker: str, start: datetime, end: datetime):\n",
    "    \"\"\" Get ticker from Yahoo Finance.\n",
    "    \"\"\"\n",
    "    return yf.Ticker(ticker).history(start=start, end=end)\n",
    "\n",
    "\n",
    "def get_ticker_data(ticker: str, start: datetime, end: datetime):\n",
    "    \"\"\" Get the details stats for a stock ticker.\n",
    "    \n",
    "    Args:\n",
    "        ticker (str): the ticker symbol on Yahoo Finance.\n",
    "        start (datetime): start time of data.\n",
    "        end (datatime): end time of data.\n",
    "\n",
    "    Returns:\n",
    "        Dataframe: contains the daily stats of the ticker.\n",
    "    \"\"\"\n",
    "    data = get_ticker_from_yahoo(ticker, start, end)\n",
    "    data['Change'] = data['Close'].pct_change()\n",
    "    data['Gross Return'] = data['Change'] + 1\n",
    "    data['Log Return'] = np.log(data['Gross Return'])\n",
    "    return data\n",
    "\n",
    "\n",
    "def get_risk_free_return(start: datetime, end: datetime):\n",
    "    \"\"\" Get risk-free return.\n",
    "\n",
    "    The risk-free return is yielded by 13 Week Treasuray Bill.\n",
    "    Note that the data from Yahoo Finance represent is annualized return.\n",
    "    Each daily value contains annualized return %.\n",
    "\n",
    "    Args:\n",
    "        start (datetime): start time of data.\n",
    "        end (datatime): end time of data.\n",
    "\n",
    "    Returns:\n",
    "        Dataframe: contains the daily stats of risk-free return.\n",
    "    \"\"\"\n",
    "    irx = get_ticker_from_yahoo('^IRX', start ,end)\n",
    "    irx['Annaul Log Return'] = np.log(1 + (irx['Close'] / 100)) # divide by 100 since it's %\n",
    "    irx['Log Return'] = irx['Annaul Log Return'] / DAYS_IN_YEAR\n",
    "    return irx\n",
    "\n",
    "\n",
    "def get_sharp_ratio(ticker: str, start: datetime, end: datetime):\n",
    "    \"\"\" Get sharp ratio for a stock ticker.\n",
    "    \n",
    "    Args:\n",
    "        ticker (str): the ticker symbol on Yahoo Finance.\n",
    "        start (datetime): start time of data.\n",
    "        end (datatime): end time of data.\n",
    "\n",
    "    Returns:\n",
    "        float: the sharp ratio of the ticker data.\n",
    "    \"\"\"\n",
    "    ticker_data = get_ticker_data(ticker, start, end)\n",
    "    irx_data = get_risk_free_return(start, end)\n",
    "    ticker_data['Excess Return'] = ticker_data['Log Return'] - irx_data['Log Return']\n",
    "\n",
    "    excess_return_mean = np.mean(ticker_data['Excess Return'])\n",
    "    excess_return_std = np.std(ticker_data['Excess Return'])\n",
    "    return excess_return_mean / excess_return_std\n",
    "\n"
   ],
   "cell_type": "code",
   "metadata": {
    "tags": []
   },
   "execution_count": 6,
   "outputs": []
  },
  {
   "cell_type": "code",
   "execution_count": 21,
   "metadata": {
    "tags": []
   },
   "outputs": [
    {
     "output_type": "stream",
     "name": "stdout",
     "text": "SP500  sharp: 0.115277\nIBUY   sharp: 0.312674 || relative_sharp: 0.197397\nARKF   sharp: 0.280109 || relative_sharp: 0.164832\nARKW   sharp: 0.255015 || relative_sharp: 0.139738\nESPO   sharp: 0.241484 || relative_sharp: 0.126207\nTAN    sharp: 0.237422 || relative_sharp: 0.122145\nARKK   sharp: 0.235704 || relative_sharp: 0.120427\nARKG   sharp: 0.201813 || relative_sharp: 0.086536\nXRT    sharp: 0.200940 || relative_sharp: 0.085663\nARKQ   sharp: 0.199834 || relative_sharp: 0.084557\nNVDA   sharp: 0.195975 || relative_sharp: 0.080698\nXLY    sharp: 0.193831 || relative_sharp: 0.078554\nAAPL   sharp: 0.192539 || relative_sharp: 0.077262\nCLOU   sharp: 0.180409 || relative_sharp: 0.065132\nITB    sharp: 0.173852 || relative_sharp: 0.058575\nAMZN   sharp: 0.158544 || relative_sharp: 0.043267\nVGT    sharp: 0.153796 || relative_sharp: 0.038519\nIYT    sharp: 0.140279 || relative_sharp: 0.025002\nBETZ   sharp: 0.135008 || relative_sharp: 0.019731\nXBI    sharp: 0.126391 || relative_sharp: 0.011114\nXLB    sharp: 0.125031 || relative_sharp: 0.009754\nXME    sharp: 0.101942 || relative_sharp: -0.013335\nMSFT   sharp: 0.098645 || relative_sharp: -0.016632\nXPH    sharp: 0.097488 || relative_sharp: -0.017789\nXLP    sharp: 0.086831 || relative_sharp: -0.028446\nXLV    sharp: 0.067112 || relative_sharp: -0.048165\nJETS   sharp: 0.037906 || relative_sharp: -0.077371\nXLF    sharp: 0.031119 || relative_sharp: -0.084158\nVNQ    sharp: 0.026849 || relative_sharp: -0.088428\nITA    sharp: 0.024321 || relative_sharp: -0.090956\nXOP    sharp: 0.022332 || relative_sharp: -0.092945\nXLE    sharp: -0.014539 || relative_sharp: -0.129816\n"
    }
   ],
   "source": [
    "\n",
    "sharp_sp500 = get_sharp_ratio('^GSPC', start, end)\n",
    "\n",
    "tickers = ['MSFT', 'AAPL', 'AMZN', 'NVDA', 'BETZ', 'VGT', 'IBUY', 'ARKK', 'ARKG', 'ARKW', 'ARKQ', 'ARKF', 'CLOU', 'ESPO', 'XBI', 'XLV', 'XPH', 'XLP', 'XLY', 'XRT', 'ITB', 'XLF', 'IYT', 'ITA', 'XOP', 'XLE', 'VNQ', 'XLB', 'TAN', 'XME', 'JETS']\n",
    "start = datetime(2020, 4, 9)\n",
    "end = datetime(2020, 9, 23)\n",
    "\n",
    "datas = []\n",
    "for ticker in tickers:\n",
    "    data = {}\n",
    "    data['name'] = ticker\n",
    "    data['sharp'] = get_sharp_ratio(ticker, start, end)\n",
    "    data['relative_sharp'] = data['sharp'] - sharp_sp500\n",
    "    datas.append(data)\n",
    "\n",
    "print(f'{\"SP500\":6} sharp: {sharp_sp500:.6f}')\n",
    "datas.sort(key= lambda data: data['relative_sharp'], reverse=True)\n",
    "for data in datas:\n",
    "    print(f'{data[\"name\"]:6} sharp: {data[\"sharp\"]:.6f} || relative_sharp: {data[\"relative_sharp\"]:.6f}')\n",
    "\n"
   ]
  },
  {
   "cell_type": "code",
   "execution_count": null,
   "metadata": {
    "tags": []
   },
   "outputs": [],
   "source": [
    "data = pd.Series([1, 3, 8])\n",
    "dataframe = pd.DataFrame({'A': [1,2,3,4], 'B': [3,3,3,3]})\n",
    "dataframe2 = pd.DataFrame({'A': [1,2,3,4,5,6,7,8], 'B': [3,3,3,3,6,6,6,6]})\n",
    "print (dataframe - dataframe2)"
   ]
  },
  {
   "cell_type": "code",
   "execution_count": null,
   "metadata": {
    "tags": []
   },
   "outputs": [],
   "source": [
    "\n",
    "df = pd.DataFrame(np.ones((6, 4)), index=pd.date_range('20130108', periods=6), columns=list('ABCD'))\n",
    "df2 = pd.DataFrame(np.zeros((20, 4)), index=pd.date_range('20130101', periods=20), columns=list('ABCD'))\n",
    "\n",
    "df2\n",
    "print (df)\n",
    "print (df2)\n",
    "print (df['D'] - df2['D'])\n",
    "print (np.std(df['D'] - df2['D']))\n",
    "# print (np.mean(df - df2))"
   ]
  }
 ],
 "metadata": {
  "kernelspec": {
   "display_name": "stock-analysis-env",
   "language": "python",
   "name": "stock-analysis-env"
  },
  "language_info": {
   "codemirror_mode": {
    "name": "ipython",
    "version": 3
   },
   "file_extension": ".py",
   "mimetype": "text/x-python",
   "name": "python",
   "nbconvert_exporter": "python",
   "pygments_lexer": "ipython3",
   "version": "3.8.5-final"
  }
 },
 "nbformat": 4,
 "nbformat_minor": 2
}