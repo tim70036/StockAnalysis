{
 "metadata": {
  "language_info": {
   "codemirror_mode": {
    "name": "ipython",
    "version": 3
   },
   "file_extension": ".py",
   "mimetype": "text/x-python",
   "name": "python",
   "nbconvert_exporter": "python",
   "pygments_lexer": "ipython3",
   "version": "3.8.5-final"
  },
  "orig_nbformat": 2,
  "kernelspec": {
   "name": "stock-analysis-env",
   "display_name": "stock-analysis-env"
  }
 },
 "nbformat": 4,
 "nbformat_minor": 2,
 "cells": [
  {
   "cell_type": "code",
   "execution_count": 20,
   "metadata": {
    "tags": []
   },
   "outputs": [
    {
     "output_type": "stream",
     "name": "stdout",
     "text": "FiniteSet(549.317560461583)\nFiniteSet(552.58602166184)\n"
    }
   ],
   "source": [
    "from sympy import *\n",
    "init_printing()\n",
    "\n",
    "x = Symbol('x')\n",
    "expr1 = 0\n",
    "expr2 = 0\n",
    "for n in range(1,61):\n",
    "    expr1 = expr1 + (x / (1 + n * (0.04 / 12)))\n",
    "    expr2 = expr2 + (x / (exp(0.04 / 12 * n)))\n",
    "\n",
    "print(solveset(Eq(expr1, 30000), x))\n",
    "print(solveset(Eq(expr2, 30000), x))"
   ]
  },
  {
   "cell_type": "code",
   "execution_count": 22,
   "metadata": {
    "tags": []
   },
   "outputs": [
    {
     "output_type": "stream",
     "name": "stdout",
     "text": "expr1 n=86, payment=30202.0717866803\nexpr2 n=87, payment=30158.0525747974\n"
    }
   ],
   "source": [
    "i = Symbol('i')\n",
    "expr1 = 400 / (1 + i * (0.04 / 12))\n",
    "expr2 = 400 / (exp(0.04 / 12 * i))\n",
    "\n",
    "for n in range(1, 1000):\n",
    "    result = Sum(expr1, (i, 1, n)).doit()\n",
    "    if result > 30000:\n",
    "        print(f\"expr1 n={n}, payment={result}\")\n",
    "        break\n",
    "\n",
    "\n",
    "for n in range(1, 1000):\n",
    "    result = Sum(expr2, (i, 1, n)).doit()\n",
    "    if result > 30000:\n",
    "        print(f\"expr2 n={n}, payment={result}\")\n",
    "        break\n"
   ]
  },
  {
   "cell_type": "code",
   "execution_count": 41,
   "metadata": {
    "tags": []
   },
   "outputs": [
    {
     "output_type": "stream",
     "name": "stdout",
     "text": "29285.5477094194\n28615.1178915244\n"
    },
    {
     "output_type": "execute_result",
     "data": {
      "text/plain": "  40         \n ___         \n ╲           \n  ╲         i\n  ╱   1.0245 \n ╱           \n ‾‾‾         \ni = 1        ",
      "text/latex": "$\\displaystyle \\sum_{i=1}^{40} 1.0245^{i}$"
     },
     "metadata": {},
     "execution_count": 41
    }
   ],
   "source": [
    "ca = Symbol('ca')\n",
    "cb = Symbol('cb')\n",
    "i = Symbol('i')\n",
    "sum1 = Sum((1 + 0.0245) ** i, (i, 1, 40)).doit()\n",
    "sum2 = Sum((1 + 0.0255) ** i, (i, 1, 40)).doit()\n",
    "print(2000000 / sum1)\n",
    "print(2000000 / sum2)"
   ]
  },
  {
   "cell_type": "code",
   "execution_count": 28,
   "metadata": {
    "tags": []
   },
   "outputs": [
    {
     "output_type": "stream",
     "name": "stdout",
     "text": "return=28.449999999999818\ncost price=21.86441176470588\nsold price=22.031764705882352\n"
    }
   ],
   "source": [
    "cost = 16.275 * 60 + 24.535 * 30 + 25.055 * 80\n",
    "sold = 90 * 22.5 + 80 * 21.505\n",
    "share = 170\n",
    "print(f\"return={sold - cost}\")\n",
    "print(f\"cost price={cost / share}\")\n",
    "print(f\"sold price={sold / share}\")"
   ]
  },
  {
   "cell_type": "code",
   "execution_count": 38,
   "metadata": {
    "tags": []
   },
   "outputs": [
    {
     "output_type": "stream",
     "name": "stdout",
     "text": "-3.625\n0.0\n4.78125\n3.1875\n0.875\n6.5\n0.0245\n0.0255\n"
    }
   ],
   "source": [
    "print(-10 + 1.5 * 4 + 0.0625 * 6)\n",
    "print(-5 + 1.5 * 3 + 0.0625 * 8)\n",
    "price_1 = 6.375\n",
    "price_2 = 4\n",
    "price_3 = 6\n",
    "amount_2 = price_1 / price_2\n",
    "print(3 * amount_2)\n",
    "print(2 * amount_2)\n",
    "print((price_2 - (3 / 8 * price_3)) / 2)\n",
    "print (4 * (0.75 + 0.875))\n",
    "print(0.025 - 0.0005)\n",
    "print(0.027-0.0015)"
   ]
  }
 ]
}