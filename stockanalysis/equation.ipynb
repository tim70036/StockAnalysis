{
 "metadata": {
  "language_info": {
   "codemirror_mode": {
    "name": "ipython",
    "version": 3
   },
   "file_extension": ".py",
   "mimetype": "text/x-python",
   "name": "python",
   "nbconvert_exporter": "python",
   "pygments_lexer": "ipython3",
   "version": "3.8.5-final"
  },
  "orig_nbformat": 2,
  "kernelspec": {
   "name": "stock-analysis-env",
   "display_name": "stock-analysis-env"
  }
 },
 "nbformat": 4,
 "nbformat_minor": 2,
 "cells": [
  {
   "cell_type": "code",
   "execution_count": 2,
   "metadata": {},
   "outputs": [],
   "source": [
    "from sympy import *\n",
    "import numpy as np"
   ]
  },
  {
   "cell_type": "code",
   "execution_count": 20,
   "metadata": {
    "tags": []
   },
   "outputs": [
    {
     "output_type": "stream",
     "name": "stdout",
     "text": "FiniteSet(549.317560461583)\nFiniteSet(552.58602166184)\n"
    }
   ],
   "source": [
    "\n",
    "init_printing()\n",
    "\n",
    "x = Symbol('x')\n",
    "expr1 = 0\n",
    "expr2 = 0\n",
    "for n in range(1,61):\n",
    "    expr1 = expr1 + (x / (1 + n * (0.04 / 12)))\n",
    "    expr2 = expr2 + (x / (exp(0.04 / 12 * n)))\n",
    "\n",
    "print(solveset(Eq(expr1, 30000), x))\n",
    "print(solveset(Eq(expr2, 30000), x))"
   ]
  },
  {
   "cell_type": "code",
   "execution_count": 22,
   "metadata": {
    "tags": []
   },
   "outputs": [
    {
     "output_type": "stream",
     "name": "stdout",
     "text": "expr1 n=86, payment=30202.0717866803\nexpr2 n=87, payment=30158.0525747974\n"
    }
   ],
   "source": [
    "i = Symbol('i')\n",
    "expr1 = 400 / (1 + i * (0.04 / 12))\n",
    "expr2 = 400 / (exp(0.04 / 12 * i))\n",
    "\n",
    "for n in range(1, 1000):\n",
    "    result = Sum(expr1, (i, 1, n)).doit()\n",
    "    if result > 30000:\n",
    "        print(f\"expr1 n={n}, payment={result}\")\n",
    "        break\n",
    "\n",
    "\n",
    "for n in range(1, 1000):\n",
    "    result = Sum(expr2, (i, 1, n)).doit()\n",
    "    if result > 30000:\n",
    "        print(f\"expr2 n={n}, payment={result}\")\n",
    "        break\n"
   ]
  },
  {
   "cell_type": "code",
   "execution_count": 41,
   "metadata": {
    "tags": []
   },
   "outputs": [
    {
     "output_type": "stream",
     "name": "stdout",
     "text": "29285.5477094194\n28615.1178915244\n"
    },
    {
     "output_type": "execute_result",
     "data": {
      "text/plain": "  40         \n ___         \n ╲           \n  ╲         i\n  ╱   1.0245 \n ╱           \n ‾‾‾         \ni = 1        ",
      "text/latex": "$\\displaystyle \\sum_{i=1}^{40} 1.0245^{i}$"
     },
     "metadata": {},
     "execution_count": 41
    }
   ],
   "source": [
    "ca = Symbol('ca')\n",
    "cb = Symbol('cb')\n",
    "i = Symbol('i')\n",
    "sum1 = Sum((1 + 0.0245) ** i, (i, 1, 40)).doit()\n",
    "sum2 = Sum((1 + 0.0255) ** i, (i, 1, 40)).doit()\n",
    "print(2000000 / sum1)\n",
    "print(2000000 / sum2)"
   ]
  },
  {
   "cell_type": "code",
   "execution_count": 28,
   "metadata": {
    "tags": []
   },
   "outputs": [
    {
     "output_type": "stream",
     "name": "stdout",
     "text": "return=28.449999999999818\ncost price=21.86441176470588\nsold price=22.031764705882352\n"
    }
   ],
   "source": [
    "cost = 16.275 * 60 + 24.535 * 30 + 25.055 * 80\n",
    "sold = 90 * 22.5 + 80 * 21.505\n",
    "share = 170\n",
    "print(f\"return={sold - cost}\")\n",
    "print(f\"cost price={cost / share}\")\n",
    "print(f\"sold price={sold / share}\")"
   ]
  },
  {
   "cell_type": "code",
   "execution_count": 38,
   "metadata": {
    "tags": []
   },
   "outputs": [
    {
     "output_type": "stream",
     "name": "stdout",
     "text": "-3.625\n0.0\n4.78125\n3.1875\n0.875\n6.5\n0.0245\n0.0255\n"
    }
   ],
   "source": [
    "print(-10 + 1.5 * 4 + 0.0625 * 6)\n",
    "print(-5 + 1.5 * 3 + 0.0625 * 8)\n",
    "price_1 = 6.375\n",
    "price_2 = 4\n",
    "price_3 = 6\n",
    "amount_2 = price_1 / price_2\n",
    "print(3 * amount_2)\n",
    "print(2 * amount_2)\n",
    "print((price_2 - (3 / 8 * price_3)) / 2)\n",
    "print (4 * (0.75 + 0.875))\n",
    "print(0.025 - 0.0005)\n",
    "print(0.027-0.0015)"
   ]
  },
  {
   "cell_type": "code",
   "execution_count": 2,
   "metadata": {
    "tags": []
   },
   "outputs": [
    {
     "output_type": "stream",
     "name": "stdout",
     "text": [
      "r 0.004, x 22919.87848267424, interest 5875963.544802273\n2936885.512592833\n"
     ]
    }
   ],
   "source": [
    "# Mortgage\n",
    "r = 0.004\n",
    "pv = 4000000\n",
    "period = 300\n",
    "x = r * pv / (1 - (1 / ((1 + r) ** period)  )) \n",
    "interest = period * x - 1000000\n",
    "print(f\"r {r}, x {x}, interest {interest}\")\n",
    "\n",
    "remain_period = 15 * 12\n",
    "remain_pv = x / r * (1 - (1 / ((1 + r) ** remain_period)  ))\n",
    "print (remain_pv)\n",
    "\n",
    "# r = 0.055\n",
    "# x = 107754.611\n",
    "# reach = 1437794.887\n",
    "# s = 0\n",
    "# for t in range(1,10000):\n",
    "#     s += (x / ((1+r)**t))\n",
    "#     if s > reach:\n",
    "#         print(f\"Reach {reach} with t {t}, s {s}, interest {t * x - 1000000}\")\n",
    "#         break\n"
   ]
  },
  {
   "cell_type": "code",
   "execution_count": 55,
   "metadata": {
    "tags": []
   },
   "outputs": [
    {
     "output_type": "stream",
     "name": "stdout",
     "text": "price is 149585.58781085414, duration 16.0 years\n"
    }
   ],
   "source": [
    "# Bond price and duration given yield\n",
    "n = 16\n",
    "m = 1\n",
    "face = 380000\n",
    "lam = 0.06\n",
    "coupon_annual_rate = 0\n",
    "\n",
    "c = face * coupon_annual_rate / m\n",
    "lamm = lam / m\n",
    "pv = face / ((1+lamm)**n) + (c / lamm) * (1 - 1 / ((1+lamm)**n))\n",
    "\n",
    "duration = (n / m) * face / ((1 + lamm) ** n)\n",
    "for i in range(1, n+1):\n",
    "    duration += (i/m) * (c / ((1+lamm)**i))\n",
    "duration /= pv\n",
    "\n",
    "print(f\"price is {pv}, duration {duration} years\")"
   ]
  },
  {
   "cell_type": "code",
   "execution_count": 62,
   "metadata": {
    "tags": []
   },
   "outputs": [
    {
     "output_type": "stream",
     "name": "stdout",
     "text": "forward 1, 5: 0.07024273547589366\n"
    }
   ],
   "source": [
    "# Forward using Spot\n",
    "i = 1\n",
    "j = 5\n",
    "si = 0.02\n",
    "sj = 0.06\n",
    "f = (((1+sj)**j) / ((1+si)**i)) ** (1.0 / (j-i)) - 1\n",
    "print (f\"forward {i}, {j}: {f}\")"
   ]
  },
  {
   "cell_type": "code",
   "execution_count": 10,
   "metadata": {},
   "outputs": [
    {
     "output_type": "stream",
     "name": "stdout",
     "text": [
      "w: 0.5\nmean: 0.05, var: 0.0010666094129609999, std: 0.03265898671056712\n"
     ]
    }
   ],
   "source": [
    "# Var, mean of portfolio if want min variance\n",
    "# PS: should use matrices for n assets ! much simpler\n",
    "\n",
    "mean_a = 0.05\n",
    "mean_b = 0.05\n",
    "std_a = 0.06683\n",
    "std_b = 0.07789\n",
    "corr = -0.60194\n",
    "\n",
    "# if want mean variance\n",
    "# w = (std_b**2 - std_a*std_b*corr) / (std_a**2 + std_b**2 - 2*std_a*std_b*corr)\n",
    "w = 0.5\n",
    "\n",
    "mean = w * mean_a + (1-w) * mean_b\n",
    "var = (w**2) * (std_a**2) + ((1-w)**2) * (std_b**2) + 2 * w * (1-w) * std_a * std_b * corr\n",
    "print (f\"w: {w}\")\n",
    "print (f\"mean: {mean}, var: {var}, std: {var ** (1/2)}\")\n"
   ]
  },
  {
   "cell_type": "code",
   "execution_count": 6,
   "metadata": {},
   "outputs": [
    {
     "output_type": "stream",
     "name": "stdout",
     "text": [
      "[[ 0.28571429 -0.14285714  0.        ]\n [-0.14285714  0.57142857  0.        ]\n [ 0.          0.          0.0625    ]]\nmin_var_w:\n [[0.22535211]\n [0.67605634]\n [0.09859155]]\n"
     ]
    },
    {
     "output_type": "error",
     "ename": "ValueError",
     "evalue": "operands could not be broadcast together with shapes (2,1) (3,1) ",
     "traceback": [
      "\u001b[1;31m---------------------------------------------------------------------------\u001b[0m",
      "\u001b[1;31mValueError\u001b[0m                                Traceback (most recent call last)",
      "\u001b[1;32m<ipython-input-6-8d4c9ac66f30>\u001b[0m in \u001b[0;36m<module>\u001b[1;34m\u001b[0m\n\u001b[0;32m     25\u001b[0m \u001b[1;33m\u001b[0m\u001b[0m\n\u001b[0;32m     26\u001b[0m \u001b[1;31m# One fund\u001b[0m\u001b[1;33m\u001b[0m\u001b[1;33m\u001b[0m\u001b[1;33m\u001b[0m\u001b[0m\n\u001b[1;32m---> 27\u001b[1;33m \u001b[0mone_fund_v\u001b[0m \u001b[1;33m=\u001b[0m \u001b[0mnp\u001b[0m\u001b[1;33m.\u001b[0m\u001b[0mmatmul\u001b[0m\u001b[1;33m(\u001b[0m\u001b[0mcov_inv\u001b[0m\u001b[1;33m,\u001b[0m \u001b[1;33m(\u001b[0m\u001b[0mu\u001b[0m \u001b[1;33m-\u001b[0m \u001b[0mrisk_free\u001b[0m \u001b[1;33m*\u001b[0m \u001b[0mones\u001b[0m\u001b[1;33m)\u001b[0m\u001b[1;33m)\u001b[0m\u001b[1;33m\u001b[0m\u001b[1;33m\u001b[0m\u001b[0m\n\u001b[0m\u001b[0;32m     28\u001b[0m \u001b[0mone_fund_w\u001b[0m \u001b[1;33m=\u001b[0m \u001b[0mone_fund_v\u001b[0m \u001b[1;33m/\u001b[0m \u001b[1;33m(\u001b[0m\u001b[0mnp\u001b[0m\u001b[1;33m.\u001b[0m\u001b[0mmatmul\u001b[0m\u001b[1;33m(\u001b[0m\u001b[0mones\u001b[0m\u001b[1;33m.\u001b[0m\u001b[0mT\u001b[0m\u001b[1;33m,\u001b[0m \u001b[0mone_fund_v\u001b[0m\u001b[1;33m)\u001b[0m\u001b[1;33m)\u001b[0m\u001b[1;33m\u001b[0m\u001b[1;33m\u001b[0m\u001b[0m\n\u001b[0;32m     29\u001b[0m \u001b[0mprint\u001b[0m\u001b[1;33m(\u001b[0m\u001b[1;34mf\"one_fund_w:\\n {one_fund_w}\"\u001b[0m\u001b[1;33m)\u001b[0m\u001b[1;33m\u001b[0m\u001b[1;33m\u001b[0m\u001b[0m\n",
      "\u001b[1;31mValueError\u001b[0m: operands could not be broadcast together with shapes (2,1) (3,1) "
     ]
    }
   ],
   "source": [
    "# Markowitz, One-func, Min-Variance of N asset\n",
    "u = np.matrix([0.15, 0.2, 0.3]).T # Expected return of each asset\n",
    "risk_free = 0.05\n",
    "\n",
    "# Covariance between each asset\n",
    "# cov = np.matrix([\n",
    "#     [4, 1, 1],\n",
    "#     [1, 4, 0],\n",
    "#     [1, 0, 4],\n",
    "# ])\n",
    "cov = np.matrix([\n",
    "    [4, 1, 0],\n",
    "    [1, 2, 0],\n",
    "    [0, 0, 16]\n",
    "])\n",
    "cov_inv = np.linalg.inv(cov)\n",
    "ones = np.matrix([1,1,1]).T\n",
    "\n",
    "print (cov_inv)\n",
    "\n",
    "# Min variance\n",
    "min_var_v = np.matmul(cov_inv, ones)\n",
    "min_var_w = min_var_v / (np.matmul(ones.T, min_var_v))\n",
    "print(f\"min_var_w:\\n {min_var_w}\")\n",
    "\n",
    "# One fund\n",
    "one_fund_v = np.matmul(cov_inv, (u - risk_free * ones))\n",
    "one_fund_w = one_fund_v / (np.matmul(ones.T, one_fund_v))\n",
    "print(f\"one_fund_w:\\n {one_fund_w}\")\n",
    "\n",
    "# Markowitz\n",
    "target_u = 1.5\n",
    "wr =  np.matmul(cov_inv, u) / np.matmul(np.matmul(ones.T, cov_inv), u)\n",
    "w1 = np.matmul(cov_inv, ones) / np.matmul(np.matmul(ones.T, cov_inv), ones)\n",
    "phi = np.asscalar((target_u - np.matmul(w1.T, u)) / (np.matmul(u.T, wr) - np.matmul(u.T, w1)))\n",
    "markowitz_w = phi * wr + (1 - phi) * w1\n",
    "print(f\"markowitz_w of target mean {target_u}: \\n {markowitz_w}\")\n",
    "\n",
    "one_fund_v"
   ]
  }
 ]
}